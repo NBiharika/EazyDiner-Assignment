{
 "cells": [
  {
   "cell_type": "code",
   "execution_count": 1,
   "metadata": {},
   "outputs": [],
   "source": [
    "# importing the libraries\n",
    "import numpy as np\n",
    "import pandas as pd\n",
    "import matplotlib.pyplot as plt\n",
    "import seaborn as sns"
   ]
  },
  {
   "cell_type": "code",
   "execution_count": 2,
   "metadata": {},
   "outputs": [],
   "source": [
    "#importing dataset as data1\n",
    "data1 = pd.read_csv(r'C:\\Users\\Asus\\Downloads\\Sample_BOOKINGS_Dataset_1.xlsx - SEPT-NOV_CUST_DATA_BOOKINGS.csv')"
   ]
  },
  {
   "cell_type": "code",
   "execution_count": 3,
   "metadata": {},
   "outputs": [
    {
     "data": {
      "text/html": [
       "<div>\n",
       "<style scoped>\n",
       "    .dataframe tbody tr th:only-of-type {\n",
       "        vertical-align: middle;\n",
       "    }\n",
       "\n",
       "    .dataframe tbody tr th {\n",
       "        vertical-align: top;\n",
       "    }\n",
       "\n",
       "    .dataframe thead th {\n",
       "        text-align: right;\n",
       "    }\n",
       "</style>\n",
       "<table border=\"1\" class=\"dataframe\">\n",
       "  <thead>\n",
       "    <tr style=\"text-align: right;\">\n",
       "      <th></th>\n",
       "      <th>date</th>\n",
       "      <th>medium</th>\n",
       "      <th>restaurant_name</th>\n",
       "      <th>location</th>\n",
       "      <th>cust_id</th>\n",
       "    </tr>\n",
       "  </thead>\n",
       "  <tbody>\n",
       "    <tr>\n",
       "      <th>0</th>\n",
       "      <td>9/4/2020</td>\n",
       "      <td>web</td>\n",
       "      <td>Spectra</td>\n",
       "      <td>The Leela Ambience, Gurgaon</td>\n",
       "      <td>5015431352112</td>\n",
       "    </tr>\n",
       "    <tr>\n",
       "      <th>1</th>\n",
       "      <td>9/6/2020</td>\n",
       "      <td>google</td>\n",
       "      <td>Barbeque Nation</td>\n",
       "      <td>Park Street Area, Kolkata</td>\n",
       "      <td>5015431352115</td>\n",
       "    </tr>\n",
       "    <tr>\n",
       "      <th>2</th>\n",
       "      <td>9/1/2020</td>\n",
       "      <td>google</td>\n",
       "      <td>Barbeque Nation</td>\n",
       "      <td>Ambience Mall, Gurgaon</td>\n",
       "      <td>5015431352121</td>\n",
       "    </tr>\n",
       "    <tr>\n",
       "      <th>3</th>\n",
       "      <td>9/4/2020</td>\n",
       "      <td>google</td>\n",
       "      <td>Barbeque Pride</td>\n",
       "      <td>Hitech City, Hyderabad</td>\n",
       "      <td>5015431352122</td>\n",
       "    </tr>\n",
       "    <tr>\n",
       "      <th>4</th>\n",
       "      <td>9/6/2020</td>\n",
       "      <td>google</td>\n",
       "      <td>Float Brewery</td>\n",
       "      <td>Kalyan Nagar, North Bengaluru</td>\n",
       "      <td>5015431352123</td>\n",
       "    </tr>\n",
       "  </tbody>\n",
       "</table>\n",
       "</div>"
      ],
      "text/plain": [
       "       date  medium  restaurant_name                       location  \\\n",
       "0  9/4/2020     web          Spectra    The Leela Ambience, Gurgaon   \n",
       "1  9/6/2020  google  Barbeque Nation      Park Street Area, Kolkata   \n",
       "2  9/1/2020  google  Barbeque Nation         Ambience Mall, Gurgaon   \n",
       "3  9/4/2020  google   Barbeque Pride         Hitech City, Hyderabad   \n",
       "4  9/6/2020  google    Float Brewery  Kalyan Nagar, North Bengaluru   \n",
       "\n",
       "         cust_id  \n",
       "0  5015431352112  \n",
       "1  5015431352115  \n",
       "2  5015431352121  \n",
       "3  5015431352122  \n",
       "4  5015431352123  "
      ]
     },
     "execution_count": 3,
     "metadata": {},
     "output_type": "execute_result"
    }
   ],
   "source": [
    "data1.head()"
   ]
  },
  {
   "cell_type": "code",
   "execution_count": 4,
   "metadata": {},
   "outputs": [
    {
     "name": "stdout",
     "output_type": "stream",
     "text": [
      "<class 'pandas.core.frame.DataFrame'>\n",
      "RangeIndex: 61333 entries, 0 to 61332\n",
      "Data columns (total 5 columns):\n",
      " #   Column           Non-Null Count  Dtype \n",
      "---  ------           --------------  ----- \n",
      " 0   date             61333 non-null  object\n",
      " 1   medium           61333 non-null  object\n",
      " 2   restaurant_name  61333 non-null  object\n",
      " 3   location         61333 non-null  object\n",
      " 4   cust_id          61333 non-null  int64 \n",
      "dtypes: int64(1), object(4)\n",
      "memory usage: 2.3+ MB\n"
     ]
    }
   ],
   "source": [
    "data1.info()"
   ]
  },
  {
   "cell_type": "code",
   "execution_count": 5,
   "metadata": {},
   "outputs": [],
   "source": [
    "# importing dataset as data2\n",
    "data2 = pd.read_csv(r'C:\\Users\\Asus\\Downloads\\Sample_CUSTOMER_Dataset_2.xlsx - SEPT-NOV_CUST_DATA.csv')"
   ]
  },
  {
   "cell_type": "code",
   "execution_count": 6,
   "metadata": {},
   "outputs": [
    {
     "data": {
      "text/html": [
       "<div>\n",
       "<style scoped>\n",
       "    .dataframe tbody tr th:only-of-type {\n",
       "        vertical-align: middle;\n",
       "    }\n",
       "\n",
       "    .dataframe tbody tr th {\n",
       "        vertical-align: top;\n",
       "    }\n",
       "\n",
       "    .dataframe thead th {\n",
       "        text-align: right;\n",
       "    }\n",
       "</style>\n",
       "<table border=\"1\" class=\"dataframe\">\n",
       "  <thead>\n",
       "    <tr style=\"text-align: right;\">\n",
       "      <th></th>\n",
       "      <th>cust_id</th>\n",
       "      <th>name</th>\n",
       "      <th>city</th>\n",
       "      <th>gender</th>\n",
       "      <th>AGE</th>\n",
       "      <th>medium</th>\n",
       "      <th>signup_date</th>\n",
       "    </tr>\n",
       "  </thead>\n",
       "  <tbody>\n",
       "    <tr>\n",
       "      <th>0</th>\n",
       "      <td>5015431352112</td>\n",
       "      <td>Juhi Agrawal</td>\n",
       "      <td>Delhi NCR</td>\n",
       "      <td>F</td>\n",
       "      <td>72</td>\n",
       "      <td>web</td>\n",
       "      <td>9/1/2020</td>\n",
       "    </tr>\n",
       "    <tr>\n",
       "      <th>1</th>\n",
       "      <td>5015431352113</td>\n",
       "      <td>Manish</td>\n",
       "      <td>Delhi NCR</td>\n",
       "      <td>M</td>\n",
       "      <td>45</td>\n",
       "      <td>android</td>\n",
       "      <td>9/1/2020</td>\n",
       "    </tr>\n",
       "    <tr>\n",
       "      <th>2</th>\n",
       "      <td>5015431352114</td>\n",
       "      <td>mani</td>\n",
       "      <td>Chennai</td>\n",
       "      <td>M</td>\n",
       "      <td>29</td>\n",
       "      <td>android</td>\n",
       "      <td>9/1/2020</td>\n",
       "    </tr>\n",
       "    <tr>\n",
       "      <th>3</th>\n",
       "      <td>5015431352115</td>\n",
       "      <td>Rija</td>\n",
       "      <td>Kolkata</td>\n",
       "      <td>F</td>\n",
       "      <td>60</td>\n",
       "      <td>google</td>\n",
       "      <td>9/1/2020</td>\n",
       "    </tr>\n",
       "    <tr>\n",
       "      <th>4</th>\n",
       "      <td>5015431352120</td>\n",
       "      <td>Bharath</td>\n",
       "      <td>NaN</td>\n",
       "      <td>M</td>\n",
       "      <td>32</td>\n",
       "      <td>google</td>\n",
       "      <td>9/1/2020</td>\n",
       "    </tr>\n",
       "  </tbody>\n",
       "</table>\n",
       "</div>"
      ],
      "text/plain": [
       "         cust_id          name       city gender  AGE   medium signup_date\n",
       "0  5015431352112  Juhi Agrawal  Delhi NCR      F   72      web    9/1/2020\n",
       "1  5015431352113        Manish  Delhi NCR      M   45  android    9/1/2020\n",
       "2  5015431352114          mani    Chennai      M   29  android    9/1/2020\n",
       "3  5015431352115          Rija    Kolkata      F   60   google    9/1/2020\n",
       "4  5015431352120       Bharath        NaN      M   32   google    9/1/2020"
      ]
     },
     "execution_count": 6,
     "metadata": {},
     "output_type": "execute_result"
    }
   ],
   "source": [
    "data2.head()"
   ]
  },
  {
   "cell_type": "code",
   "execution_count": 7,
   "metadata": {},
   "outputs": [
    {
     "name": "stdout",
     "output_type": "stream",
     "text": [
      "<class 'pandas.core.frame.DataFrame'>\n",
      "RangeIndex: 98354 entries, 0 to 98353\n",
      "Data columns (total 7 columns):\n",
      " #   Column       Non-Null Count  Dtype \n",
      "---  ------       --------------  ----- \n",
      " 0   cust_id      98354 non-null  int64 \n",
      " 1   name         92756 non-null  object\n",
      " 2   city         80621 non-null  object\n",
      " 3   gender       4700 non-null   object\n",
      " 4   AGE          98354 non-null  int64 \n",
      " 5   medium       98354 non-null  object\n",
      " 6   signup_date  98354 non-null  object\n",
      "dtypes: int64(2), object(5)\n",
      "memory usage: 5.3+ MB\n"
     ]
    }
   ],
   "source": [
    "data2.info()"
   ]
  },
  {
   "cell_type": "code",
   "execution_count": 8,
   "metadata": {},
   "outputs": [],
   "source": [
    "#data1.isnull().sum()"
   ]
  },
  {
   "cell_type": "code",
   "execution_count": 9,
   "metadata": {},
   "outputs": [],
   "source": [
    "#data2.isnull().sum()"
   ]
  },
  {
   "cell_type": "code",
   "execution_count": 10,
   "metadata": {},
   "outputs": [],
   "source": [
    "#import missingno as msno\n",
    "#%matplotlib inline"
   ]
  },
  {
   "cell_type": "code",
   "execution_count": 11,
   "metadata": {},
   "outputs": [],
   "source": [
    "#msno.matrix(data1)"
   ]
  },
  {
   "cell_type": "code",
   "execution_count": 12,
   "metadata": {},
   "outputs": [],
   "source": [
    "#Merging both the dataframes using column cust_id\n",
    "merged_data = pd.merge(left=data1, right=data2, how='outer', left_on='cust_id', right_on='cust_id')"
   ]
  },
  {
   "cell_type": "code",
   "execution_count": 13,
   "metadata": {},
   "outputs": [
    {
     "data": {
      "text/html": [
       "<div>\n",
       "<style scoped>\n",
       "    .dataframe tbody tr th:only-of-type {\n",
       "        vertical-align: middle;\n",
       "    }\n",
       "\n",
       "    .dataframe tbody tr th {\n",
       "        vertical-align: top;\n",
       "    }\n",
       "\n",
       "    .dataframe thead th {\n",
       "        text-align: right;\n",
       "    }\n",
       "</style>\n",
       "<table border=\"1\" class=\"dataframe\">\n",
       "  <thead>\n",
       "    <tr style=\"text-align: right;\">\n",
       "      <th></th>\n",
       "      <th>date</th>\n",
       "      <th>medium_x</th>\n",
       "      <th>restaurant_name</th>\n",
       "      <th>location</th>\n",
       "      <th>cust_id</th>\n",
       "      <th>name</th>\n",
       "      <th>city</th>\n",
       "      <th>gender</th>\n",
       "      <th>AGE</th>\n",
       "      <th>medium_y</th>\n",
       "      <th>signup_date</th>\n",
       "    </tr>\n",
       "  </thead>\n",
       "  <tbody>\n",
       "    <tr>\n",
       "      <th>0</th>\n",
       "      <td>9/4/2020</td>\n",
       "      <td>web</td>\n",
       "      <td>Spectra</td>\n",
       "      <td>The Leela Ambience, Gurgaon</td>\n",
       "      <td>5015431352112</td>\n",
       "      <td>Juhi Agrawal</td>\n",
       "      <td>Delhi NCR</td>\n",
       "      <td>F</td>\n",
       "      <td>72</td>\n",
       "      <td>web</td>\n",
       "      <td>9/1/2020</td>\n",
       "    </tr>\n",
       "    <tr>\n",
       "      <th>1</th>\n",
       "      <td>9/6/2020</td>\n",
       "      <td>google</td>\n",
       "      <td>Barbeque Nation</td>\n",
       "      <td>Park Street Area, Kolkata</td>\n",
       "      <td>5015431352115</td>\n",
       "      <td>Rija</td>\n",
       "      <td>Kolkata</td>\n",
       "      <td>F</td>\n",
       "      <td>60</td>\n",
       "      <td>google</td>\n",
       "      <td>9/1/2020</td>\n",
       "    </tr>\n",
       "    <tr>\n",
       "      <th>2</th>\n",
       "      <td>9/1/2020</td>\n",
       "      <td>google</td>\n",
       "      <td>Barbeque Nation</td>\n",
       "      <td>Ambience Mall, Gurgaon</td>\n",
       "      <td>5015431352121</td>\n",
       "      <td>Aparna</td>\n",
       "      <td>Delhi NCR</td>\n",
       "      <td>F</td>\n",
       "      <td>27</td>\n",
       "      <td>google</td>\n",
       "      <td>9/1/2020</td>\n",
       "    </tr>\n",
       "    <tr>\n",
       "      <th>3</th>\n",
       "      <td>9/4/2020</td>\n",
       "      <td>google</td>\n",
       "      <td>Barbeque Pride</td>\n",
       "      <td>Hitech City, Hyderabad</td>\n",
       "      <td>5015431352122</td>\n",
       "      <td>Pavan Sai Chandra</td>\n",
       "      <td>Hyderabad</td>\n",
       "      <td>M</td>\n",
       "      <td>69</td>\n",
       "      <td>google</td>\n",
       "      <td>9/1/2020</td>\n",
       "    </tr>\n",
       "    <tr>\n",
       "      <th>4</th>\n",
       "      <td>9/6/2020</td>\n",
       "      <td>google</td>\n",
       "      <td>Float Brewery</td>\n",
       "      <td>Kalyan Nagar, North Bengaluru</td>\n",
       "      <td>5015431352123</td>\n",
       "      <td>Vaseem</td>\n",
       "      <td>Bengaluru</td>\n",
       "      <td>M</td>\n",
       "      <td>38</td>\n",
       "      <td>google</td>\n",
       "      <td>9/1/2020</td>\n",
       "    </tr>\n",
       "  </tbody>\n",
       "</table>\n",
       "</div>"
      ],
      "text/plain": [
       "       date medium_x  restaurant_name                       location  \\\n",
       "0  9/4/2020      web          Spectra    The Leela Ambience, Gurgaon   \n",
       "1  9/6/2020   google  Barbeque Nation      Park Street Area, Kolkata   \n",
       "2  9/1/2020   google  Barbeque Nation         Ambience Mall, Gurgaon   \n",
       "3  9/4/2020   google   Barbeque Pride         Hitech City, Hyderabad   \n",
       "4  9/6/2020   google    Float Brewery  Kalyan Nagar, North Bengaluru   \n",
       "\n",
       "         cust_id               name       city gender  AGE medium_y  \\\n",
       "0  5015431352112       Juhi Agrawal  Delhi NCR      F   72      web   \n",
       "1  5015431352115               Rija    Kolkata      F   60   google   \n",
       "2  5015431352121             Aparna  Delhi NCR      F   27   google   \n",
       "3  5015431352122  Pavan Sai Chandra  Hyderabad      M   69   google   \n",
       "4  5015431352123             Vaseem  Bengaluru      M   38   google   \n",
       "\n",
       "  signup_date  \n",
       "0    9/1/2020  \n",
       "1    9/1/2020  \n",
       "2    9/1/2020  \n",
       "3    9/1/2020  \n",
       "4    9/1/2020  "
      ]
     },
     "execution_count": 13,
     "metadata": {},
     "output_type": "execute_result"
    }
   ],
   "source": [
    "merged_data.head()"
   ]
  },
  {
   "cell_type": "code",
   "execution_count": 14,
   "metadata": {},
   "outputs": [
    {
     "data": {
      "text/plain": [
       "(98354, 11)"
      ]
     },
     "execution_count": 14,
     "metadata": {},
     "output_type": "execute_result"
    }
   ],
   "source": [
    "merged_data.shape"
   ]
  },
  {
   "cell_type": "code",
   "execution_count": 15,
   "metadata": {},
   "outputs": [
    {
     "name": "stdout",
     "output_type": "stream",
     "text": [
      "<class 'pandas.core.frame.DataFrame'>\n",
      "Int64Index: 98354 entries, 0 to 98353\n",
      "Data columns (total 11 columns):\n",
      " #   Column           Non-Null Count  Dtype \n",
      "---  ------           --------------  ----- \n",
      " 0   date             61333 non-null  object\n",
      " 1   medium_x         61333 non-null  object\n",
      " 2   restaurant_name  61333 non-null  object\n",
      " 3   location         61333 non-null  object\n",
      " 4   cust_id          98354 non-null  int64 \n",
      " 5   name             92756 non-null  object\n",
      " 6   city             80621 non-null  object\n",
      " 7   gender           4700 non-null   object\n",
      " 8   AGE              98354 non-null  int64 \n",
      " 9   medium_y         98354 non-null  object\n",
      " 10  signup_date      98354 non-null  object\n",
      "dtypes: int64(2), object(9)\n",
      "memory usage: 9.0+ MB\n"
     ]
    }
   ],
   "source": [
    "merged_data.info()"
   ]
  },
  {
   "cell_type": "code",
   "execution_count": 16,
   "metadata": {},
   "outputs": [
    {
     "data": {
      "text/html": [
       "<div>\n",
       "<style scoped>\n",
       "    .dataframe tbody tr th:only-of-type {\n",
       "        vertical-align: middle;\n",
       "    }\n",
       "\n",
       "    .dataframe tbody tr th {\n",
       "        vertical-align: top;\n",
       "    }\n",
       "\n",
       "    .dataframe thead th {\n",
       "        text-align: right;\n",
       "    }\n",
       "</style>\n",
       "<table border=\"1\" class=\"dataframe\">\n",
       "  <thead>\n",
       "    <tr style=\"text-align: right;\">\n",
       "      <th></th>\n",
       "      <th>date</th>\n",
       "      <th>medium_x</th>\n",
       "      <th>restaurant_name</th>\n",
       "      <th>location</th>\n",
       "      <th>cust_id</th>\n",
       "      <th>name</th>\n",
       "      <th>city</th>\n",
       "      <th>gender</th>\n",
       "      <th>AGE</th>\n",
       "      <th>medium_y</th>\n",
       "      <th>signup_date</th>\n",
       "    </tr>\n",
       "  </thead>\n",
       "  <tbody>\n",
       "  </tbody>\n",
       "</table>\n",
       "</div>"
      ],
      "text/plain": [
       "Empty DataFrame\n",
       "Columns: [date, medium_x, restaurant_name, location, cust_id, name, city, gender, AGE, medium_y, signup_date]\n",
       "Index: []"
      ]
     },
     "execution_count": 16,
     "metadata": {},
     "output_type": "execute_result"
    }
   ],
   "source": [
    "#Removing the duplicate rows\n",
    "merged_data[merged_data.duplicated(subset=['cust_id'], keep='first')] "
   ]
  },
  {
   "cell_type": "code",
   "execution_count": 17,
   "metadata": {},
   "outputs": [],
   "source": [
    "#Sorting by cust_id column\n",
    "merged_data.sort_values(by=['cust_id'], inplace=True)"
   ]
  },
  {
   "cell_type": "code",
   "execution_count": 18,
   "metadata": {},
   "outputs": [],
   "source": [
    "merged_data.reset_index(drop=True, inplace=True)"
   ]
  },
  {
   "cell_type": "code",
   "execution_count": 19,
   "metadata": {},
   "outputs": [
    {
     "data": {
      "text/html": [
       "<div>\n",
       "<style scoped>\n",
       "    .dataframe tbody tr th:only-of-type {\n",
       "        vertical-align: middle;\n",
       "    }\n",
       "\n",
       "    .dataframe tbody tr th {\n",
       "        vertical-align: top;\n",
       "    }\n",
       "\n",
       "    .dataframe thead th {\n",
       "        text-align: right;\n",
       "    }\n",
       "</style>\n",
       "<table border=\"1\" class=\"dataframe\">\n",
       "  <thead>\n",
       "    <tr style=\"text-align: right;\">\n",
       "      <th></th>\n",
       "      <th>date</th>\n",
       "      <th>medium_x</th>\n",
       "      <th>restaurant_name</th>\n",
       "      <th>location</th>\n",
       "      <th>cust_id</th>\n",
       "      <th>name</th>\n",
       "      <th>city</th>\n",
       "      <th>gender</th>\n",
       "      <th>AGE</th>\n",
       "      <th>medium_y</th>\n",
       "      <th>signup_date</th>\n",
       "    </tr>\n",
       "  </thead>\n",
       "  <tbody>\n",
       "    <tr>\n",
       "      <th>0</th>\n",
       "      <td>9/4/2020</td>\n",
       "      <td>web</td>\n",
       "      <td>Spectra</td>\n",
       "      <td>The Leela Ambience, Gurgaon</td>\n",
       "      <td>5015431352112</td>\n",
       "      <td>Juhi Agrawal</td>\n",
       "      <td>Delhi NCR</td>\n",
       "      <td>F</td>\n",
       "      <td>72</td>\n",
       "      <td>web</td>\n",
       "      <td>9/1/2020</td>\n",
       "    </tr>\n",
       "    <tr>\n",
       "      <th>1</th>\n",
       "      <td>NaN</td>\n",
       "      <td>NaN</td>\n",
       "      <td>NaN</td>\n",
       "      <td>NaN</td>\n",
       "      <td>5015431352113</td>\n",
       "      <td>Manish</td>\n",
       "      <td>Delhi NCR</td>\n",
       "      <td>M</td>\n",
       "      <td>45</td>\n",
       "      <td>android</td>\n",
       "      <td>9/1/2020</td>\n",
       "    </tr>\n",
       "    <tr>\n",
       "      <th>2</th>\n",
       "      <td>NaN</td>\n",
       "      <td>NaN</td>\n",
       "      <td>NaN</td>\n",
       "      <td>NaN</td>\n",
       "      <td>5015431352114</td>\n",
       "      <td>mani</td>\n",
       "      <td>Chennai</td>\n",
       "      <td>M</td>\n",
       "      <td>29</td>\n",
       "      <td>android</td>\n",
       "      <td>9/1/2020</td>\n",
       "    </tr>\n",
       "    <tr>\n",
       "      <th>3</th>\n",
       "      <td>9/6/2020</td>\n",
       "      <td>google</td>\n",
       "      <td>Barbeque Nation</td>\n",
       "      <td>Park Street Area, Kolkata</td>\n",
       "      <td>5015431352115</td>\n",
       "      <td>Rija</td>\n",
       "      <td>Kolkata</td>\n",
       "      <td>F</td>\n",
       "      <td>60</td>\n",
       "      <td>google</td>\n",
       "      <td>9/1/2020</td>\n",
       "    </tr>\n",
       "    <tr>\n",
       "      <th>4</th>\n",
       "      <td>NaN</td>\n",
       "      <td>NaN</td>\n",
       "      <td>NaN</td>\n",
       "      <td>NaN</td>\n",
       "      <td>5015431352120</td>\n",
       "      <td>Bharath</td>\n",
       "      <td>NaN</td>\n",
       "      <td>M</td>\n",
       "      <td>32</td>\n",
       "      <td>google</td>\n",
       "      <td>9/1/2020</td>\n",
       "    </tr>\n",
       "  </tbody>\n",
       "</table>\n",
       "</div>"
      ],
      "text/plain": [
       "       date medium_x  restaurant_name                     location  \\\n",
       "0  9/4/2020      web          Spectra  The Leela Ambience, Gurgaon   \n",
       "1       NaN      NaN              NaN                          NaN   \n",
       "2       NaN      NaN              NaN                          NaN   \n",
       "3  9/6/2020   google  Barbeque Nation    Park Street Area, Kolkata   \n",
       "4       NaN      NaN              NaN                          NaN   \n",
       "\n",
       "         cust_id          name       city gender  AGE medium_y signup_date  \n",
       "0  5015431352112  Juhi Agrawal  Delhi NCR      F   72      web    9/1/2020  \n",
       "1  5015431352113        Manish  Delhi NCR      M   45  android    9/1/2020  \n",
       "2  5015431352114          mani    Chennai      M   29  android    9/1/2020  \n",
       "3  5015431352115          Rija    Kolkata      F   60   google    9/1/2020  \n",
       "4  5015431352120       Bharath        NaN      M   32   google    9/1/2020  "
      ]
     },
     "execution_count": 19,
     "metadata": {},
     "output_type": "execute_result"
    }
   ],
   "source": [
    "merged_data.head()"
   ]
  },
  {
   "cell_type": "code",
   "execution_count": 20,
   "metadata": {},
   "outputs": [
    {
     "data": {
      "text/plain": [
       "date               37021\n",
       "medium_x           37021\n",
       "restaurant_name    37021\n",
       "location           37021\n",
       "cust_id                0\n",
       "name                5598\n",
       "city               17733\n",
       "gender             93654\n",
       "AGE                    0\n",
       "medium_y               0\n",
       "signup_date            0\n",
       "dtype: int64"
      ]
     },
     "execution_count": 20,
     "metadata": {},
     "output_type": "execute_result"
    }
   ],
   "source": [
    "# Checking for missing values\n",
    "merged_data.isnull().sum()"
   ]
  },
  {
   "cell_type": "code",
   "execution_count": 21,
   "metadata": {},
   "outputs": [
    {
     "name": "stdout",
     "output_type": "stream",
     "text": [
      "Requirement already satisfied: missingno in c:\\users\\asus\\anaconda3\\lib\\site-packages (0.4.2)\n",
      "Requirement already satisfied: matplotlib in c:\\users\\asus\\anaconda3\\lib\\site-packages (from missingno) (3.1.3)\n",
      "Requirement already satisfied: seaborn in c:\\users\\asus\\anaconda3\\lib\\site-packages (from missingno) (0.10.0)\n",
      "Requirement already satisfied: scipy in c:\\users\\asus\\anaconda3\\lib\\site-packages (from missingno) (1.4.1)\n",
      "Requirement already satisfied: numpy in c:\\users\\asus\\anaconda3\\lib\\site-packages (from missingno) (1.18.1)\n",
      "Requirement already satisfied: pyparsing!=2.0.4,!=2.1.2,!=2.1.6,>=2.0.1 in c:\\users\\asus\\anaconda3\\lib\\site-packages (from matplotlib->missingno) (2.4.6)\n",
      "Requirement already satisfied: python-dateutil>=2.1 in c:\\users\\asus\\anaconda3\\lib\\site-packages (from matplotlib->missingno) (2.8.1)\n",
      "Requirement already satisfied: kiwisolver>=1.0.1 in c:\\users\\asus\\anaconda3\\lib\\site-packages (from matplotlib->missingno) (1.1.0)\n",
      "Requirement already satisfied: cycler>=0.10 in c:\\users\\asus\\anaconda3\\lib\\site-packages (from matplotlib->missingno) (0.10.0)\n",
      "Requirement already satisfied: pandas>=0.22.0 in c:\\users\\asus\\anaconda3\\lib\\site-packages (from seaborn->missingno) (1.0.1)\n",
      "Requirement already satisfied: six>=1.5 in c:\\users\\asus\\anaconda3\\lib\\site-packages (from python-dateutil>=2.1->matplotlib->missingno) (1.14.0)\n",
      "Requirement already satisfied: setuptools in c:\\users\\asus\\anaconda3\\lib\\site-packages (from kiwisolver>=1.0.1->matplotlib->missingno) (45.2.0.post20200210)\n",
      "Requirement already satisfied: pytz>=2017.2 in c:\\users\\asus\\anaconda3\\lib\\site-packages (from pandas>=0.22.0->seaborn->missingno) (2019.3)\n",
      "Note: you may need to restart the kernel to use updated packages.\n"
     ]
    }
   ],
   "source": [
    "pip install missingno"
   ]
  },
  {
   "cell_type": "code",
   "execution_count": 22,
   "metadata": {},
   "outputs": [],
   "source": [
    "import missingno as msno"
   ]
  },
  {
   "cell_type": "code",
   "execution_count": 23,
   "metadata": {},
   "outputs": [],
   "source": [
    "%matplotlib inline"
   ]
  },
  {
   "cell_type": "code",
   "execution_count": 24,
   "metadata": {},
   "outputs": [
    {
     "data": {
      "text/plain": [
       "<matplotlib.axes._subplots.AxesSubplot at 0x26336adc9c8>"
      ]
     },
     "execution_count": 24,
     "metadata": {},
     "output_type": "execute_result"
    },
    {
     "data": {
      "image/png": "[encoded data removed]",
      "text/plain": [
       "<Figure size 1800x720 with 2 Axes>"
      ]
     },
     "metadata": {
      "needs_background": "light"
     },
     "output_type": "display_data"
    }
   ],
   "source": [
    "# checking missing column no. in each column\n",
    "msno.matrix(merged_data)"
   ]
  },
  {
   "cell_type": "code",
   "execution_count": 25,
   "metadata": {},
   "outputs": [],
   "source": [
    "# Creating a new column medium containing all the values in medium_x after filling missing values from medium_y as both are for the same customer\n",
    "merged_data['medium']= merged_data['medium_x'].fillna(merged_data['medium_y'])"
   ]
  },
  {
   "cell_type": "code",
   "execution_count": 26,
   "metadata": {},
   "outputs": [
    {
     "data": {
      "text/html": [
       "<div>\n",
       "<style scoped>\n",
       "    .dataframe tbody tr th:only-of-type {\n",
       "        vertical-align: middle;\n",
       "    }\n",
       "\n",
       "    .dataframe tbody tr th {\n",
       "        vertical-align: top;\n",
       "    }\n",
       "\n",
       "    .dataframe thead th {\n",
       "        text-align: right;\n",
       "    }\n",
       "</style>\n",
       "<table border=\"1\" class=\"dataframe\">\n",
       "  <thead>\n",
       "    <tr style=\"text-align: right;\">\n",
       "      <th></th>\n",
       "      <th>date</th>\n",
       "      <th>medium_x</th>\n",
       "      <th>restaurant_name</th>\n",
       "      <th>location</th>\n",
       "      <th>cust_id</th>\n",
       "      <th>name</th>\n",
       "      <th>city</th>\n",
       "      <th>gender</th>\n",
       "      <th>AGE</th>\n",
       "      <th>medium_y</th>\n",
       "      <th>signup_date</th>\n",
       "      <th>medium</th>\n",
       "    </tr>\n",
       "  </thead>\n",
       "  <tbody>\n",
       "    <tr>\n",
       "      <th>0</th>\n",
       "      <td>9/4/2020</td>\n",
       "      <td>web</td>\n",
       "      <td>Spectra</td>\n",
       "      <td>The Leela Ambience, Gurgaon</td>\n",
       "      <td>5015431352112</td>\n",
       "      <td>Juhi Agrawal</td>\n",
       "      <td>Delhi NCR</td>\n",
       "      <td>F</td>\n",
       "      <td>72</td>\n",
       "      <td>web</td>\n",
       "      <td>9/1/2020</td>\n",
       "      <td>web</td>\n",
       "    </tr>\n",
       "    <tr>\n",
       "      <th>1</th>\n",
       "      <td>NaN</td>\n",
       "      <td>NaN</td>\n",
       "      <td>NaN</td>\n",
       "      <td>NaN</td>\n",
       "      <td>5015431352113</td>\n",
       "      <td>Manish</td>\n",
       "      <td>Delhi NCR</td>\n",
       "      <td>M</td>\n",
       "      <td>45</td>\n",
       "      <td>android</td>\n",
       "      <td>9/1/2020</td>\n",
       "      <td>android</td>\n",
       "    </tr>\n",
       "    <tr>\n",
       "      <th>2</th>\n",
       "      <td>NaN</td>\n",
       "      <td>NaN</td>\n",
       "      <td>NaN</td>\n",
       "      <td>NaN</td>\n",
       "      <td>5015431352114</td>\n",
       "      <td>mani</td>\n",
       "      <td>Chennai</td>\n",
       "      <td>M</td>\n",
       "      <td>29</td>\n",
       "      <td>android</td>\n",
       "      <td>9/1/2020</td>\n",
       "      <td>android</td>\n",
       "    </tr>\n",
       "    <tr>\n",
       "      <th>3</th>\n",
       "      <td>9/6/2020</td>\n",
       "      <td>google</td>\n",
       "      <td>Barbeque Nation</td>\n",
       "      <td>Park Street Area, Kolkata</td>\n",
       "      <td>5015431352115</td>\n",
       "      <td>Rija</td>\n",
       "      <td>Kolkata</td>\n",
       "      <td>F</td>\n",
       "      <td>60</td>\n",
       "      <td>google</td>\n",
       "      <td>9/1/2020</td>\n",
       "      <td>google</td>\n",
       "    </tr>\n",
       "    <tr>\n",
       "      <th>4</th>\n",
       "      <td>NaN</td>\n",
       "      <td>NaN</td>\n",
       "      <td>NaN</td>\n",
       "      <td>NaN</td>\n",
       "      <td>5015431352120</td>\n",
       "      <td>Bharath</td>\n",
       "      <td>NaN</td>\n",
       "      <td>M</td>\n",
       "      <td>32</td>\n",
       "      <td>google</td>\n",
       "      <td>9/1/2020</td>\n",
       "      <td>google</td>\n",
       "    </tr>\n",
       "  </tbody>\n",
       "</table>\n",
       "</div>"
      ],
      "text/plain": [
       "       date medium_x  restaurant_name                     location  \\\n",
       "0  9/4/2020      web          Spectra  The Leela Ambience, Gurgaon   \n",
       "1       NaN      NaN              NaN                          NaN   \n",
       "2       NaN      NaN              NaN                          NaN   \n",
       "3  9/6/2020   google  Barbeque Nation    Park Street Area, Kolkata   \n",
       "4       NaN      NaN              NaN                          NaN   \n",
       "\n",
       "         cust_id          name       city gender  AGE medium_y signup_date  \\\n",
       "0  5015431352112  Juhi Agrawal  Delhi NCR      F   72      web    9/1/2020   \n",
       "1  5015431352113        Manish  Delhi NCR      M   45  android    9/1/2020   \n",
       "2  5015431352114          mani    Chennai      M   29  android    9/1/2020   \n",
       "3  5015431352115          Rija    Kolkata      F   60   google    9/1/2020   \n",
       "4  5015431352120       Bharath        NaN      M   32   google    9/1/2020   \n",
       "\n",
       "    medium  \n",
       "0      web  \n",
       "1  android  \n",
       "2  android  \n",
       "3   google  \n",
       "4   google  "
      ]
     },
     "execution_count": 26,
     "metadata": {},
     "output_type": "execute_result"
    }
   ],
   "source": [
    "merged_data.head()"
   ]
  },
  {
   "cell_type": "code",
   "execution_count": 27,
   "metadata": {},
   "outputs": [],
   "source": [
    "import datetime as dt"
   ]
  },
  {
   "cell_type": "code",
   "execution_count": 28,
   "metadata": {},
   "outputs": [],
   "source": [
    "from datetime import timedelta"
   ]
  },
  {
   "cell_type": "code",
   "execution_count": 29,
   "metadata": {},
   "outputs": [],
   "source": [
    "# Converting the datatype of date from object to datetime64[ns]\n",
    "merged_data['date'] = merged_data['date'].astype('datetime64')"
   ]
  },
  {
   "cell_type": "code",
   "execution_count": 30,
   "metadata": {},
   "outputs": [],
   "source": [
    "# Converting the datatype of signup_date from object to datetime64[ns]\n",
    "merged_data['signup_date'] = merged_data['signup_date'].astype('datetime64')"
   ]
  },
  {
   "cell_type": "code",
   "execution_count": 31,
   "metadata": {},
   "outputs": [
    {
     "name": "stdout",
     "output_type": "stream",
     "text": [
      "<class 'pandas.core.frame.DataFrame'>\n",
      "RangeIndex: 98354 entries, 0 to 98353\n",
      "Data columns (total 12 columns):\n",
      " #   Column           Non-Null Count  Dtype         \n",
      "---  ------           --------------  -----         \n",
      " 0   date             61333 non-null  datetime64[ns]\n",
      " 1   medium_x         61333 non-null  object        \n",
      " 2   restaurant_name  61333 non-null  object        \n",
      " 3   location         61333 non-null  object        \n",
      " 4   cust_id          98354 non-null  int64         \n",
      " 5   name             92756 non-null  object        \n",
      " 6   city             80621 non-null  object        \n",
      " 7   gender           4700 non-null   object        \n",
      " 8   AGE              98354 non-null  int64         \n",
      " 9   medium_y         98354 non-null  object        \n",
      " 10  signup_date      98354 non-null  datetime64[ns]\n",
      " 11  medium           98354 non-null  object        \n",
      "dtypes: datetime64[ns](2), int64(2), object(8)\n",
      "memory usage: 9.0+ MB\n"
     ]
    }
   ],
   "source": [
    "merged_data.info()"
   ]
  },
  {
   "cell_type": "code",
   "execution_count": 32,
   "metadata": {},
   "outputs": [],
   "source": [
    "#Creating a new column time_span which will give the number of days taken by a customer for booking\n",
    "merged_data['time_span'] = merged_data['date']-merged_data['signup_date']"
   ]
  },
  {
   "cell_type": "code",
   "execution_count": 33,
   "metadata": {},
   "outputs": [],
   "source": [
    "merged_data['time_span'] = merged_data['time_span']/timedelta(days=1)"
   ]
  },
  {
   "cell_type": "code",
   "execution_count": 34,
   "metadata": {},
   "outputs": [
    {
     "data": {
      "text/html": [
       "<div>\n",
       "<style scoped>\n",
       "    .dataframe tbody tr th:only-of-type {\n",
       "        vertical-align: middle;\n",
       "    }\n",
       "\n",
       "    .dataframe tbody tr th {\n",
       "        vertical-align: top;\n",
       "    }\n",
       "\n",
       "    .dataframe thead th {\n",
       "        text-align: right;\n",
       "    }\n",
       "</style>\n",
       "<table border=\"1\" class=\"dataframe\">\n",
       "  <thead>\n",
       "    <tr style=\"text-align: right;\">\n",
       "      <th></th>\n",
       "      <th>date</th>\n",
       "      <th>medium_x</th>\n",
       "      <th>restaurant_name</th>\n",
       "      <th>location</th>\n",
       "      <th>cust_id</th>\n",
       "      <th>name</th>\n",
       "      <th>city</th>\n",
       "      <th>gender</th>\n",
       "      <th>AGE</th>\n",
       "      <th>medium_y</th>\n",
       "      <th>signup_date</th>\n",
       "      <th>medium</th>\n",
       "      <th>time_span</th>\n",
       "    </tr>\n",
       "  </thead>\n",
       "  <tbody>\n",
       "    <tr>\n",
       "      <th>0</th>\n",
       "      <td>2020-09-04</td>\n",
       "      <td>web</td>\n",
       "      <td>Spectra</td>\n",
       "      <td>The Leela Ambience, Gurgaon</td>\n",
       "      <td>5015431352112</td>\n",
       "      <td>Juhi Agrawal</td>\n",
       "      <td>Delhi NCR</td>\n",
       "      <td>F</td>\n",
       "      <td>72</td>\n",
       "      <td>web</td>\n",
       "      <td>2020-09-01</td>\n",
       "      <td>web</td>\n",
       "      <td>3.0</td>\n",
       "    </tr>\n",
       "    <tr>\n",
       "      <th>1</th>\n",
       "      <td>NaT</td>\n",
       "      <td>NaN</td>\n",
       "      <td>NaN</td>\n",
       "      <td>NaN</td>\n",
       "      <td>5015431352113</td>\n",
       "      <td>Manish</td>\n",
       "      <td>Delhi NCR</td>\n",
       "      <td>M</td>\n",
       "      <td>45</td>\n",
       "      <td>android</td>\n",
       "      <td>2020-09-01</td>\n",
       "      <td>android</td>\n",
       "      <td>NaN</td>\n",
       "    </tr>\n",
       "    <tr>\n",
       "      <th>2</th>\n",
       "      <td>NaT</td>\n",
       "      <td>NaN</td>\n",
       "      <td>NaN</td>\n",
       "      <td>NaN</td>\n",
       "      <td>5015431352114</td>\n",
       "      <td>mani</td>\n",
       "      <td>Chennai</td>\n",
       "      <td>M</td>\n",
       "      <td>29</td>\n",
       "      <td>android</td>\n",
       "      <td>2020-09-01</td>\n",
       "      <td>android</td>\n",
       "      <td>NaN</td>\n",
       "    </tr>\n",
       "    <tr>\n",
       "      <th>3</th>\n",
       "      <td>2020-09-06</td>\n",
       "      <td>google</td>\n",
       "      <td>Barbeque Nation</td>\n",
       "      <td>Park Street Area, Kolkata</td>\n",
       "      <td>5015431352115</td>\n",
       "      <td>Rija</td>\n",
       "      <td>Kolkata</td>\n",
       "      <td>F</td>\n",
       "      <td>60</td>\n",
       "      <td>google</td>\n",
       "      <td>2020-09-01</td>\n",
       "      <td>google</td>\n",
       "      <td>5.0</td>\n",
       "    </tr>\n",
       "    <tr>\n",
       "      <th>4</th>\n",
       "      <td>NaT</td>\n",
       "      <td>NaN</td>\n",
       "      <td>NaN</td>\n",
       "      <td>NaN</td>\n",
       "      <td>5015431352120</td>\n",
       "      <td>Bharath</td>\n",
       "      <td>NaN</td>\n",
       "      <td>M</td>\n",
       "      <td>32</td>\n",
       "      <td>google</td>\n",
       "      <td>2020-09-01</td>\n",
       "      <td>google</td>\n",
       "      <td>NaN</td>\n",
       "    </tr>\n",
       "  </tbody>\n",
       "</table>\n",
       "</div>"
      ],
      "text/plain": [
       "        date medium_x  restaurant_name                     location  \\\n",
       "0 2020-09-04      web          Spectra  The Leela Ambience, Gurgaon   \n",
       "1        NaT      NaN              NaN                          NaN   \n",
       "2        NaT      NaN              NaN                          NaN   \n",
       "3 2020-09-06   google  Barbeque Nation    Park Street Area, Kolkata   \n",
       "4        NaT      NaN              NaN                          NaN   \n",
       "\n",
       "         cust_id          name       city gender  AGE medium_y signup_date  \\\n",
       "0  5015431352112  Juhi Agrawal  Delhi NCR      F   72      web  2020-09-01   \n",
       "1  5015431352113        Manish  Delhi NCR      M   45  android  2020-09-01   \n",
       "2  5015431352114          mani    Chennai      M   29  android  2020-09-01   \n",
       "3  5015431352115          Rija    Kolkata      F   60   google  2020-09-01   \n",
       "4  5015431352120       Bharath        NaN      M   32   google  2020-09-01   \n",
       "\n",
       "    medium  time_span  \n",
       "0      web        3.0  \n",
       "1  android        NaN  \n",
       "2  android        NaN  \n",
       "3   google        5.0  \n",
       "4   google        NaN  "
      ]
     },
     "execution_count": 34,
     "metadata": {},
     "output_type": "execute_result"
    }
   ],
   "source": [
    "merged_data.head()"
   ]
  },
  {
   "cell_type": "code",
   "execution_count": 35,
   "metadata": {},
   "outputs": [],
   "source": [
    "# When the time_span exceeds 7 days or the customer doesn't book after signing up,allot 0 else 1\n",
    "merged_data['booked']= np.where(merged_data['time_span']>7,0, np.where(merged_data['time_span'].isnull(), 0, 1))"
   ]
  },
  {
   "cell_type": "code",
   "execution_count": 36,
   "metadata": {},
   "outputs": [
    {
     "data": {
      "text/html": [
       "<div>\n",
       "<style scoped>\n",
       "    .dataframe tbody tr th:only-of-type {\n",
       "        vertical-align: middle;\n",
       "    }\n",
       "\n",
       "    .dataframe tbody tr th {\n",
       "        vertical-align: top;\n",
       "    }\n",
       "\n",
       "    .dataframe thead th {\n",
       "        text-align: right;\n",
       "    }\n",
       "</style>\n",
       "<table border=\"1\" class=\"dataframe\">\n",
       "  <thead>\n",
       "    <tr style=\"text-align: right;\">\n",
       "      <th></th>\n",
       "      <th>date</th>\n",
       "      <th>medium_x</th>\n",
       "      <th>restaurant_name</th>\n",
       "      <th>location</th>\n",
       "      <th>cust_id</th>\n",
       "      <th>name</th>\n",
       "      <th>city</th>\n",
       "      <th>gender</th>\n",
       "      <th>AGE</th>\n",
       "      <th>medium_y</th>\n",
       "      <th>signup_date</th>\n",
       "      <th>medium</th>\n",
       "      <th>time_span</th>\n",
       "      <th>booked</th>\n",
       "    </tr>\n",
       "  </thead>\n",
       "  <tbody>\n",
       "    <tr>\n",
       "      <th>0</th>\n",
       "      <td>2020-09-04</td>\n",
       "      <td>web</td>\n",
       "      <td>Spectra</td>\n",
       "      <td>The Leela Ambience, Gurgaon</td>\n",
       "      <td>5015431352112</td>\n",
       "      <td>Juhi Agrawal</td>\n",
       "      <td>Delhi NCR</td>\n",
       "      <td>F</td>\n",
       "      <td>72</td>\n",
       "      <td>web</td>\n",
       "      <td>2020-09-01</td>\n",
       "      <td>web</td>\n",
       "      <td>3.0</td>\n",
       "      <td>1</td>\n",
       "    </tr>\n",
       "    <tr>\n",
       "      <th>1</th>\n",
       "      <td>NaT</td>\n",
       "      <td>NaN</td>\n",
       "      <td>NaN</td>\n",
       "      <td>NaN</td>\n",
       "      <td>5015431352113</td>\n",
       "      <td>Manish</td>\n",
       "      <td>Delhi NCR</td>\n",
       "      <td>M</td>\n",
       "      <td>45</td>\n",
       "      <td>android</td>\n",
       "      <td>2020-09-01</td>\n",
       "      <td>android</td>\n",
       "      <td>NaN</td>\n",
       "      <td>0</td>\n",
       "    </tr>\n",
       "    <tr>\n",
       "      <th>2</th>\n",
       "      <td>NaT</td>\n",
       "      <td>NaN</td>\n",
       "      <td>NaN</td>\n",
       "      <td>NaN</td>\n",
       "      <td>5015431352114</td>\n",
       "      <td>mani</td>\n",
       "      <td>Chennai</td>\n",
       "      <td>M</td>\n",
       "      <td>29</td>\n",
       "      <td>android</td>\n",
       "      <td>2020-09-01</td>\n",
       "      <td>android</td>\n",
       "      <td>NaN</td>\n",
       "      <td>0</td>\n",
       "    </tr>\n",
       "    <tr>\n",
       "      <th>3</th>\n",
       "      <td>2020-09-06</td>\n",
       "      <td>google</td>\n",
       "      <td>Barbeque Nation</td>\n",
       "      <td>Park Street Area, Kolkata</td>\n",
       "      <td>5015431352115</td>\n",
       "      <td>Rija</td>\n",
       "      <td>Kolkata</td>\n",
       "      <td>F</td>\n",
       "      <td>60</td>\n",
       "      <td>google</td>\n",
       "      <td>2020-09-01</td>\n",
       "      <td>google</td>\n",
       "      <td>5.0</td>\n",
       "      <td>1</td>\n",
       "    </tr>\n",
       "    <tr>\n",
       "      <th>4</th>\n",
       "      <td>NaT</td>\n",
       "      <td>NaN</td>\n",
       "      <td>NaN</td>\n",
       "      <td>NaN</td>\n",
       "      <td>5015431352120</td>\n",
       "      <td>Bharath</td>\n",
       "      <td>NaN</td>\n",
       "      <td>M</td>\n",
       "      <td>32</td>\n",
       "      <td>google</td>\n",
       "      <td>2020-09-01</td>\n",
       "      <td>google</td>\n",
       "      <td>NaN</td>\n",
       "      <td>0</td>\n",
       "    </tr>\n",
       "  </tbody>\n",
       "</table>\n",
       "</div>"
      ],
      "text/plain": [
       "        date medium_x  restaurant_name                     location  \\\n",
       "0 2020-09-04      web          Spectra  The Leela Ambience, Gurgaon   \n",
       "1        NaT      NaN              NaN                          NaN   \n",
       "2        NaT      NaN              NaN                          NaN   \n",
       "3 2020-09-06   google  Barbeque Nation    Park Street Area, Kolkata   \n",
       "4        NaT      NaN              NaN                          NaN   \n",
       "\n",
       "         cust_id          name       city gender  AGE medium_y signup_date  \\\n",
       "0  5015431352112  Juhi Agrawal  Delhi NCR      F   72      web  2020-09-01   \n",
       "1  5015431352113        Manish  Delhi NCR      M   45  android  2020-09-01   \n",
       "2  5015431352114          mani    Chennai      M   29  android  2020-09-01   \n",
       "3  5015431352115          Rija    Kolkata      F   60   google  2020-09-01   \n",
       "4  5015431352120       Bharath        NaN      M   32   google  2020-09-01   \n",
       "\n",
       "    medium  time_span  booked  \n",
       "0      web        3.0       1  \n",
       "1  android        NaN       0  \n",
       "2  android        NaN       0  \n",
       "3   google        5.0       1  \n",
       "4   google        NaN       0  "
      ]
     },
     "execution_count": 36,
     "metadata": {},
     "output_type": "execute_result"
    }
   ],
   "source": [
    "merged_data.head()"
   ]
  },
  {
   "cell_type": "code",
   "execution_count": 37,
   "metadata": {},
   "outputs": [
    {
     "data": {
      "text/plain": [
       "0.0    30523\n",
       "1.0    13570\n",
       "2.0     4087\n",
       "3.0     2310\n",
       "4.0     1538\n",
       "Name: time_span, dtype: int64"
      ]
     },
     "execution_count": 37,
     "metadata": {},
     "output_type": "execute_result"
    }
   ],
   "source": [
    "# couting the values of time_span which are most frequent\n",
    "merged_data['time_span'].value_counts().head()"
   ]
  },
  {
   "cell_type": "code",
   "execution_count": 38,
   "metadata": {},
   "outputs": [
    {
     "data": {
      "text/html": [
       "<div>\n",
       "<style scoped>\n",
       "    .dataframe tbody tr th:only-of-type {\n",
       "        vertical-align: middle;\n",
       "    }\n",
       "\n",
       "    .dataframe tbody tr th {\n",
       "        vertical-align: top;\n",
       "    }\n",
       "\n",
       "    .dataframe thead th {\n",
       "        text-align: right;\n",
       "    }\n",
       "</style>\n",
       "<table border=\"1\" class=\"dataframe\">\n",
       "  <thead>\n",
       "    <tr style=\"text-align: right;\">\n",
       "      <th>city</th>\n",
       "      <th>False</th>\n",
       "      <th>True</th>\n",
       "    </tr>\n",
       "    <tr>\n",
       "      <th>booked</th>\n",
       "      <th></th>\n",
       "      <th></th>\n",
       "    </tr>\n",
       "  </thead>\n",
       "  <tbody>\n",
       "    <tr>\n",
       "      <th>0</th>\n",
       "      <td>25933.0</td>\n",
       "      <td>17733.0</td>\n",
       "    </tr>\n",
       "    <tr>\n",
       "      <th>1</th>\n",
       "      <td>54688.0</td>\n",
       "      <td>NaN</td>\n",
       "    </tr>\n",
       "  </tbody>\n",
       "</table>\n",
       "</div>"
      ],
      "text/plain": [
       "city      False    True \n",
       "booked                  \n",
       "0       25933.0  17733.0\n",
       "1       54688.0      NaN"
      ]
     },
     "execution_count": 38,
     "metadata": {},
     "output_type": "execute_result"
    }
   ],
   "source": [
    "merged_data.groupby(merged_data['city'].isnull()).booked.value_counts().unstack('city')"
   ]
  },
  {
   "cell_type": "code",
   "execution_count": 39,
   "metadata": {},
   "outputs": [],
   "source": [
    "# To avoid confusion, we replace missing values by no_city\n",
    "merged_data['city'] = merged_data['city'].fillna('no_city')"
   ]
  },
  {
   "cell_type": "code",
   "execution_count": 40,
   "metadata": {},
   "outputs": [],
   "source": [
    "# To avoid confusion, we replace missing values by no_restaurant\n",
    "merged_data['restaurant_name'] = merged_data['restaurant_name'].fillna('no_restaurant')"
   ]
  },
  {
   "cell_type": "code",
   "execution_count": 41,
   "metadata": {},
   "outputs": [],
   "source": [
    "# To avoid confusion, we replace missing values by no_location\n",
    "merged_data['location'] = merged_data['location'].fillna('no_location')"
   ]
  },
  {
   "cell_type": "code",
   "execution_count": 42,
   "metadata": {},
   "outputs": [],
   "source": [
    "# We fill the missing value with no. greater than 7\n",
    "merged_data['time_span'] = merged_data['time_span'].fillna(10).astype(int)"
   ]
  },
  {
   "cell_type": "code",
   "execution_count": 43,
   "metadata": {},
   "outputs": [
    {
     "data": {
      "text/html": [
       "<div>\n",
       "<style scoped>\n",
       "    .dataframe tbody tr th:only-of-type {\n",
       "        vertical-align: middle;\n",
       "    }\n",
       "\n",
       "    .dataframe tbody tr th {\n",
       "        vertical-align: top;\n",
       "    }\n",
       "\n",
       "    .dataframe thead th {\n",
       "        text-align: right;\n",
       "    }\n",
       "</style>\n",
       "<table border=\"1\" class=\"dataframe\">\n",
       "  <thead>\n",
       "    <tr style=\"text-align: right;\">\n",
       "      <th></th>\n",
       "      <th>date</th>\n",
       "      <th>medium_x</th>\n",
       "      <th>restaurant_name</th>\n",
       "      <th>location</th>\n",
       "      <th>cust_id</th>\n",
       "      <th>name</th>\n",
       "      <th>city</th>\n",
       "      <th>gender</th>\n",
       "      <th>AGE</th>\n",
       "      <th>medium_y</th>\n",
       "      <th>signup_date</th>\n",
       "      <th>medium</th>\n",
       "      <th>time_span</th>\n",
       "      <th>booked</th>\n",
       "    </tr>\n",
       "  </thead>\n",
       "  <tbody>\n",
       "    <tr>\n",
       "      <th>0</th>\n",
       "      <td>2020-09-04</td>\n",
       "      <td>web</td>\n",
       "      <td>Spectra</td>\n",
       "      <td>The Leela Ambience, Gurgaon</td>\n",
       "      <td>5015431352112</td>\n",
       "      <td>Juhi Agrawal</td>\n",
       "      <td>Delhi NCR</td>\n",
       "      <td>F</td>\n",
       "      <td>72</td>\n",
       "      <td>web</td>\n",
       "      <td>2020-09-01</td>\n",
       "      <td>web</td>\n",
       "      <td>3</td>\n",
       "      <td>1</td>\n",
       "    </tr>\n",
       "    <tr>\n",
       "      <th>1</th>\n",
       "      <td>NaT</td>\n",
       "      <td>NaN</td>\n",
       "      <td>no_restaurant</td>\n",
       "      <td>no_location</td>\n",
       "      <td>5015431352113</td>\n",
       "      <td>Manish</td>\n",
       "      <td>Delhi NCR</td>\n",
       "      <td>M</td>\n",
       "      <td>45</td>\n",
       "      <td>android</td>\n",
       "      <td>2020-09-01</td>\n",
       "      <td>android</td>\n",
       "      <td>10</td>\n",
       "      <td>0</td>\n",
       "    </tr>\n",
       "    <tr>\n",
       "      <th>2</th>\n",
       "      <td>NaT</td>\n",
       "      <td>NaN</td>\n",
       "      <td>no_restaurant</td>\n",
       "      <td>no_location</td>\n",
       "      <td>5015431352114</td>\n",
       "      <td>mani</td>\n",
       "      <td>Chennai</td>\n",
       "      <td>M</td>\n",
       "      <td>29</td>\n",
       "      <td>android</td>\n",
       "      <td>2020-09-01</td>\n",
       "      <td>android</td>\n",
       "      <td>10</td>\n",
       "      <td>0</td>\n",
       "    </tr>\n",
       "    <tr>\n",
       "      <th>3</th>\n",
       "      <td>2020-09-06</td>\n",
       "      <td>google</td>\n",
       "      <td>Barbeque Nation</td>\n",
       "      <td>Park Street Area, Kolkata</td>\n",
       "      <td>5015431352115</td>\n",
       "      <td>Rija</td>\n",
       "      <td>Kolkata</td>\n",
       "      <td>F</td>\n",
       "      <td>60</td>\n",
       "      <td>google</td>\n",
       "      <td>2020-09-01</td>\n",
       "      <td>google</td>\n",
       "      <td>5</td>\n",
       "      <td>1</td>\n",
       "    </tr>\n",
       "    <tr>\n",
       "      <th>4</th>\n",
       "      <td>NaT</td>\n",
       "      <td>NaN</td>\n",
       "      <td>no_restaurant</td>\n",
       "      <td>no_location</td>\n",
       "      <td>5015431352120</td>\n",
       "      <td>Bharath</td>\n",
       "      <td>no_city</td>\n",
       "      <td>M</td>\n",
       "      <td>32</td>\n",
       "      <td>google</td>\n",
       "      <td>2020-09-01</td>\n",
       "      <td>google</td>\n",
       "      <td>10</td>\n",
       "      <td>0</td>\n",
       "    </tr>\n",
       "  </tbody>\n",
       "</table>\n",
       "</div>"
      ],
      "text/plain": [
       "        date medium_x  restaurant_name                     location  \\\n",
       "0 2020-09-04      web          Spectra  The Leela Ambience, Gurgaon   \n",
       "1        NaT      NaN    no_restaurant                  no_location   \n",
       "2        NaT      NaN    no_restaurant                  no_location   \n",
       "3 2020-09-06   google  Barbeque Nation    Park Street Area, Kolkata   \n",
       "4        NaT      NaN    no_restaurant                  no_location   \n",
       "\n",
       "         cust_id          name       city gender  AGE medium_y signup_date  \\\n",
       "0  5015431352112  Juhi Agrawal  Delhi NCR      F   72      web  2020-09-01   \n",
       "1  5015431352113        Manish  Delhi NCR      M   45  android  2020-09-01   \n",
       "2  5015431352114          mani    Chennai      M   29  android  2020-09-01   \n",
       "3  5015431352115          Rija    Kolkata      F   60   google  2020-09-01   \n",
       "4  5015431352120       Bharath    no_city      M   32   google  2020-09-01   \n",
       "\n",
       "    medium  time_span  booked  \n",
       "0      web          3       1  \n",
       "1  android         10       0  \n",
       "2  android         10       0  \n",
       "3   google          5       1  \n",
       "4   google         10       0  "
      ]
     },
     "execution_count": 43,
     "metadata": {},
     "output_type": "execute_result"
    }
   ],
   "source": [
    "merged_data.head()"
   ]
  },
  {
   "cell_type": "code",
   "execution_count": 44,
   "metadata": {},
   "outputs": [
    {
     "data": {
      "image/png": "[encoded data removed]",
      "text/plain": [
       "<Figure size 432x288 with 1 Axes>"
      ]
     },
     "metadata": {
      "needs_background": "light"
     },
     "output_type": "display_data"
    }
   ],
   "source": [
    "counts = merged_data[\"booked\"].value_counts()\n",
    "plt.bar(counts.index, counts.values)\n",
    "plt.show()"
   ]
  },
  {
   "cell_type": "code",
   "execution_count": 45,
   "metadata": {},
   "outputs": [
    {
     "data": {
      "text/plain": [
       "1    54688\n",
       "0    43666\n",
       "Name: booked, dtype: int64"
      ]
     },
     "execution_count": 45,
     "metadata": {},
     "output_type": "execute_result"
    }
   ],
   "source": [
    "# Total no. of bookings \n",
    "merged_data['booked'].value_counts()"
   ]
  },
  {
   "cell_type": "code",
   "execution_count": 46,
   "metadata": {},
   "outputs": [],
   "source": [
    "# Encoding medium column\n",
    "datamedium = pd.get_dummies(merged_data['medium'],drop_first=True)"
   ]
  },
  {
   "cell_type": "code",
   "execution_count": 47,
   "metadata": {},
   "outputs": [],
   "source": [
    "# restaurant names in top 100\n",
    "listrest_names = list(merged_data.restaurant_name.value_counts().sort_values(ascending=False).head(100).index)"
   ]
  },
  {
   "cell_type": "code",
   "execution_count": 48,
   "metadata": {},
   "outputs": [
    {
     "name": "stdout",
     "output_type": "stream",
     "text": [
      "['no_restaurant', 'Barbeque Nation', \"AB's - Absolute Barbecues\", 'Byg Brewski Brewing Company', 'Mainland China', 'Runway1', \"The Fisherman's Wharf\", 'Flame & Grill', 'Barbeque nation', 'Sigree Global Grill', 'The G.T. Road', 'Uru Brewpark', 'Olive Bistro', '6 Ballygunge Place', 'BOA VILLAGE', 'JW Kitchen', 'Punjab Grill', 'Claw BBQ Crabshack & Grill', 'Farzi Cafe', 'Lord of the Drinks', 'Olive Bar & Kitchen', 'Oh! Calcutta', 'DRAMZ', 'The Big Barbeque', 'Bukhara', 'The Marketplace', \"Chili's\", 'Diablo', 'Jetlag', 'Brahma Brews', 'The Barbeque Company', 'Cafe Delhi Heights', 'Sigree', 'Gufha', 'The Caravan Menu', 'Little Italy', 'Communiti', ' Golconda Pavilion', 'Unplugged Courtyard', '27 Culinary Street', 'Jungle Jamboree', 'Arbor Brewing Company', 'Little Italy ', 'Local', 'Kipling Cafe', 'Sector 7 Social', 'The Tenth Floor', \"Berco's\", 'La Cabana', 'MKT', 'Under The Neem', 'China Bistro', 'Hit Wicket', 'Chapter One Bar | Main', 'Olive Bar and Kitchen', 'High Ultra Lounge', 'Smoke Hub Barbeque', 'Purple Martini', 'Aaheli', 'Tamasha', 'Stories - Bar & kitchen', 'Tamra', 'Daddy', 'Plum by Bent Chair', 'United Coffee House', 'Seasonal Tastes', 'Spectra', 'Capella', 'TEO - Lounge & Bar', 'Shamiana', 'Aura', 'Gazebo', 'Hard Rock Cafe', 'Mint Leaf of London', 'Paasha', 'Nandhana Palace', 'Chutney Chang', 'NH8', 'TBC Sky Lounge', 'The Brew Estate', 'Whattay Kitchen & Brew', 'Kaidi Kitchen', 'Molecule Air Bar', 'Secret Of Bangalore', 'Thikana', 'Jamun', 'Mahesh Lunch Home', 'Warehouse Cafe', 'Biergarten', 'Veg Gulati', 'Hoppipola', 'The G.T. Road ', 'Titlie', 'The Terrace', \"Chili's Grill & Bar\", 'Palmshore', 'Locofeast', 'Stories - Brewery & Kitchen', '1522 - The Pub', 'Peshawri ']\n"
     ]
    }
   ],
   "source": [
    "print(listrest_names)"
   ]
  },
  {
   "cell_type": "code",
   "execution_count": 49,
   "metadata": {},
   "outputs": [],
   "source": [
    "# encoding rastaurant_name column\n",
    "for c in listrest_names:\n",
    "    merged_data[c] = np.where(merged_data['restaurant_name']==c,1,0)"
   ]
  },
  {
   "cell_type": "code",
   "execution_count": 50,
   "metadata": {},
   "outputs": [],
   "source": [
    "listloc = list(merged_data.location.value_counts().sort_values(ascending=False).head(100).index)"
   ]
  },
  {
   "cell_type": "code",
   "execution_count": 51,
   "metadata": {},
   "outputs": [
    {
     "name": "stdout",
     "output_type": "stream",
     "text": [
      "['no_location', 'Connaught Place (CP), Central Delhi', 'Banjara Hills, Hyderabad', 'Patna', 'JP Nagar, South Bengaluru', 'Visakhapatnam', 'Indiranagar, East Bengaluru', 'Jubilee Hills, Hyderabad', 'Rajajinagar, West Bengaluru', 'Mehrauli, South Delhi', 'Hennur, North Bengaluru', 'Sector 26, Chandigarh', 'Guwahati', 'Vijayawada', 'Koramangala, South Bengaluru', 'Sarjapur Road, South Bengaluru', 'Durgapur', 'Tirupati', 'Bhubaneswar', 'Coimbatore', 'Metro Walk Mall, Rohini', 'Trichy', 'Park Street Area, Kolkata', 'Kalyan Nagar, North Bengaluru', 'Gachibowli, Hyderabad', 'Nungambakkam, Chennai', 'Janakpuri, West Delhi', 'Madurai', 'Electronic City, South Bengaluru', 'Saket, South Delhi', 'Varanasi', 'BTM, South Bengaluru', 'Mysore', 'Velachery, Chennai', 'Inorbit Mall, Hitech City', 'T. Nagar, Chennai', 'Kothapet, Hyderabad', 'Ballygunge, Kolkata', 'Forum Sujana Mall, Kukatpally', 'Marathahalli, East Bengaluru', 'South City Mall, Prince Anwar Shah Road', 'Wakad, Pune', 'Ranchi', 'Sector 7, Chandigarh', 'Kakinada', 'Kanpur', 'Vegas Mall, Dwarka', 'Yelahanka, North Bengaluru', 'Erode', 'Kochi', 'Salem', 'Pondicherry', 'Thiruvananthapuram', 'Ambience Mall, Gurgaon', 'Pitampura, North Delhi', 'Sector 16, Noida', 'Powai, Central Mumbai', 'Ludhiana', 'Whitefield, East Bengaluru', 'A S Rao Nagar, Secunderabad', 'Civil Lines, North Delhi', 'Porur, Chennai', 'Tambaram, Chennai', 'Miyapur, Hyderabad', 'Guntur', 'Kalyani Nagar, Pune', 'Yeshwanthpur, West Bengaluru', 'Sector 5, Salt Lake', 'Souk Al Bahar, Downtown Dubai', 'Rajarhat New Town, Kolkata', 'Vagator, North Goa', 'Mani Square Mall, Kankurgachi, Kolkata', 'Prahlad Nagar, West Ahmedabad', 'Mangalore', 'Mylapore, Chennai', 'Vasant Kunj, South Delhi', 'Diamond Plaza Mall, Jessore Road', 'Vivek Vihar, East Delhi', 'JW Marriott Kolkata', 'Bareilly', 'ITC Maurya, New Delhi', 'Nellore', 'Barsha 2, Barsha', 'Crown Interiorz Mall, Faridabad', 'Amritsar', 'Punjabi Bagh, West Delhi', 'Raj Nagar, Ghaziabad', 'Phoenix Market City, Kurla', 'Cyber Hub, Gurgaon', 'Vashi, Navi Mumbai', 'Vadodara', 'Jammu', 'Bandra Kurla Complex (BKC), Western Suburbs', 'Atria Mall, Worli', 'Vellore', 'Dehradun', 'Jalandhar', 'Anjuna, North Goa', 'Prayagraj', 'Rajouri Garden, West Delhi']\n"
     ]
    }
   ],
   "source": [
    "print(listloc)"
   ]
  },
  {
   "cell_type": "code",
   "execution_count": 52,
   "metadata": {},
   "outputs": [],
   "source": [
    "# encoding location column\n",
    "for c in listloc:\n",
    "    merged_data[c] = np.where(merged_data['location']==c,1,0)"
   ]
  },
  {
   "cell_type": "code",
   "execution_count": 53,
   "metadata": {},
   "outputs": [],
   "source": [
    "listcity = list(merged_data.city.value_counts().sort_values(ascending=False).head(100).index)"
   ]
  },
  {
   "cell_type": "code",
   "execution_count": 54,
   "metadata": {},
   "outputs": [
    {
     "name": "stdout",
     "output_type": "stream",
     "text": [
      "['no_city', 'Delhi NCR', 'Bengaluru', 'Hyderabad', 'Mumbai', 'Kolkata', 'Chennai', 'Pune', 'Chandigarh', 'Dubai', 'Patna', 'Goa', 'Jaipur', 'Visakhapatnam', 'Ahmedabad', 'Lucknow', 'Guwahati', 'Vijayawada', 'Durgapur', 'Tirupati', 'Bhubaneswar', 'Coimbatore', 'Trichy', 'Ludhiana', 'Madurai', 'Varanasi', 'Mysore', 'Kanpur', 'Ranchi', 'Kochi', 'Salem', 'Vadodara', 'Kakinada', 'Thiruvananthapuram', 'Erode', 'Pondicherry', 'Guntur', 'Surat', 'Amritsar', 'Bareilly', 'Mangalore', 'Nagpur', 'Nellore', 'Jalandhar', 'Agra', 'Dehradun', 'Vellore', 'Jammu', 'Prayagraj', 'Kolhapur', 'Bhopal', 'Nashik', 'Tirupur', 'Patiala', 'Udaipur', 'Aurangabad', 'Hubli', 'Belgaum', 'Meerut', 'Jhansi', 'Indore', 'Kozhikode', 'Bathinda ', 'Abu Dhabi', 'Thrissur', 'Ambala', 'Panipat', 'Dimapur', 'Raipur', 'Gorakhpur', 'Rajkot', 'Kota', 'Siliguri', 'Shimla', 'Ajman', 'Mahabaleshwar', 'Jamshedpur', 'Jodhpur', 'Sharjah', 'Kannur', 'Allahabad', 'Kalyan', 'Ajmer', 'Alibag ', 'Cuttack', 'Rohtak', 'Gwalior', 'Kohima', 'Kurnool', 'Manipal', 'Warangal', 'Bharuch', 'Darjeeling', 'Trivandrum', 'Anand', 'Rajpura', 'Haridwar', 'Sonipat', 'Karnal', 'Sangli']\n"
     ]
    }
   ],
   "source": [
    "print(listcity)"
   ]
  },
  {
   "cell_type": "code",
   "execution_count": 55,
   "metadata": {},
   "outputs": [],
   "source": [
    "# encoding city column\n",
    "for c in listcity:\n",
    "    merged_data[c] = np.where(merged_data['city']==c,1,0)"
   ]
  },
  {
   "cell_type": "code",
   "execution_count": 56,
   "metadata": {},
   "outputs": [],
   "source": [
    "# Final database after encoding using concatenation\n",
    "data = pd.concat([datamedium,merged_data],axis=1)"
   ]
  },
  {
   "cell_type": "code",
   "execution_count": 57,
   "metadata": {},
   "outputs": [
    {
     "data": {
      "text/html": [
       "<div>\n",
       "<style scoped>\n",
       "    .dataframe tbody tr th:only-of-type {\n",
       "        vertical-align: middle;\n",
       "    }\n",
       "\n",
       "    .dataframe tbody tr th {\n",
       "        vertical-align: top;\n",
       "    }\n",
       "\n",
       "    .dataframe thead th {\n",
       "        text-align: right;\n",
       "    }\n",
       "</style>\n",
       "<table border=\"1\" class=\"dataframe\">\n",
       "  <thead>\n",
       "    <tr style=\"text-align: right;\">\n",
       "      <th></th>\n",
       "      <th>api_partner</th>\n",
       "      <th>concierge</th>\n",
       "      <th>google</th>\n",
       "      <th>ios</th>\n",
       "      <th>web</th>\n",
       "      <th>date</th>\n",
       "      <th>medium_x</th>\n",
       "      <th>restaurant_name</th>\n",
       "      <th>location</th>\n",
       "      <th>cust_id</th>\n",
       "      <th>...</th>\n",
       "      <th>Warangal</th>\n",
       "      <th>Bharuch</th>\n",
       "      <th>Darjeeling</th>\n",
       "      <th>Trivandrum</th>\n",
       "      <th>Anand</th>\n",
       "      <th>Rajpura</th>\n",
       "      <th>Haridwar</th>\n",
       "      <th>Sonipat</th>\n",
       "      <th>Karnal</th>\n",
       "      <th>Sangli</th>\n",
       "    </tr>\n",
       "  </thead>\n",
       "  <tbody>\n",
       "    <tr>\n",
       "      <th>0</th>\n",
       "      <td>0</td>\n",
       "      <td>0</td>\n",
       "      <td>0</td>\n",
       "      <td>0</td>\n",
       "      <td>1</td>\n",
       "      <td>2020-09-04</td>\n",
       "      <td>web</td>\n",
       "      <td>Spectra</td>\n",
       "      <td>The Leela Ambience, Gurgaon</td>\n",
       "      <td>5015431352112</td>\n",
       "      <td>...</td>\n",
       "      <td>0</td>\n",
       "      <td>0</td>\n",
       "      <td>0</td>\n",
       "      <td>0</td>\n",
       "      <td>0</td>\n",
       "      <td>0</td>\n",
       "      <td>0</td>\n",
       "      <td>0</td>\n",
       "      <td>0</td>\n",
       "      <td>0</td>\n",
       "    </tr>\n",
       "    <tr>\n",
       "      <th>1</th>\n",
       "      <td>0</td>\n",
       "      <td>0</td>\n",
       "      <td>0</td>\n",
       "      <td>0</td>\n",
       "      <td>0</td>\n",
       "      <td>NaT</td>\n",
       "      <td>NaN</td>\n",
       "      <td>no_restaurant</td>\n",
       "      <td>no_location</td>\n",
       "      <td>5015431352113</td>\n",
       "      <td>...</td>\n",
       "      <td>0</td>\n",
       "      <td>0</td>\n",
       "      <td>0</td>\n",
       "      <td>0</td>\n",
       "      <td>0</td>\n",
       "      <td>0</td>\n",
       "      <td>0</td>\n",
       "      <td>0</td>\n",
       "      <td>0</td>\n",
       "      <td>0</td>\n",
       "    </tr>\n",
       "    <tr>\n",
       "      <th>2</th>\n",
       "      <td>0</td>\n",
       "      <td>0</td>\n",
       "      <td>0</td>\n",
       "      <td>0</td>\n",
       "      <td>0</td>\n",
       "      <td>NaT</td>\n",
       "      <td>NaN</td>\n",
       "      <td>no_restaurant</td>\n",
       "      <td>no_location</td>\n",
       "      <td>5015431352114</td>\n",
       "      <td>...</td>\n",
       "      <td>0</td>\n",
       "      <td>0</td>\n",
       "      <td>0</td>\n",
       "      <td>0</td>\n",
       "      <td>0</td>\n",
       "      <td>0</td>\n",
       "      <td>0</td>\n",
       "      <td>0</td>\n",
       "      <td>0</td>\n",
       "      <td>0</td>\n",
       "    </tr>\n",
       "    <tr>\n",
       "      <th>3</th>\n",
       "      <td>0</td>\n",
       "      <td>0</td>\n",
       "      <td>1</td>\n",
       "      <td>0</td>\n",
       "      <td>0</td>\n",
       "      <td>2020-09-06</td>\n",
       "      <td>google</td>\n",
       "      <td>Barbeque Nation</td>\n",
       "      <td>Park Street Area, Kolkata</td>\n",
       "      <td>5015431352115</td>\n",
       "      <td>...</td>\n",
       "      <td>0</td>\n",
       "      <td>0</td>\n",
       "      <td>0</td>\n",
       "      <td>0</td>\n",
       "      <td>0</td>\n",
       "      <td>0</td>\n",
       "      <td>0</td>\n",
       "      <td>0</td>\n",
       "      <td>0</td>\n",
       "      <td>0</td>\n",
       "    </tr>\n",
       "    <tr>\n",
       "      <th>4</th>\n",
       "      <td>0</td>\n",
       "      <td>0</td>\n",
       "      <td>1</td>\n",
       "      <td>0</td>\n",
       "      <td>0</td>\n",
       "      <td>NaT</td>\n",
       "      <td>NaN</td>\n",
       "      <td>no_restaurant</td>\n",
       "      <td>no_location</td>\n",
       "      <td>5015431352120</td>\n",
       "      <td>...</td>\n",
       "      <td>0</td>\n",
       "      <td>0</td>\n",
       "      <td>0</td>\n",
       "      <td>0</td>\n",
       "      <td>0</td>\n",
       "      <td>0</td>\n",
       "      <td>0</td>\n",
       "      <td>0</td>\n",
       "      <td>0</td>\n",
       "      <td>0</td>\n",
       "    </tr>\n",
       "  </tbody>\n",
       "</table>\n",
       "<p>5 rows × 287 columns</p>\n",
       "</div>"
      ],
      "text/plain": [
       "   api_partner  concierge  google  ios  web       date medium_x  \\\n",
       "0            0          0       0    0    1 2020-09-04      web   \n",
       "1            0          0       0    0    0        NaT      NaN   \n",
       "2            0          0       0    0    0        NaT      NaN   \n",
       "3            0          0       1    0    0 2020-09-06   google   \n",
       "4            0          0       1    0    0        NaT      NaN   \n",
       "\n",
       "   restaurant_name                     location        cust_id  ... Warangal  \\\n",
       "0          Spectra  The Leela Ambience, Gurgaon  5015431352112  ...        0   \n",
       "1    no_restaurant                  no_location  5015431352113  ...        0   \n",
       "2    no_restaurant                  no_location  5015431352114  ...        0   \n",
       "3  Barbeque Nation    Park Street Area, Kolkata  5015431352115  ...        0   \n",
       "4    no_restaurant                  no_location  5015431352120  ...        0   \n",
       "\n",
       "  Bharuch Darjeeling  Trivandrum Anand Rajpura Haridwar  Sonipat  Karnal  \\\n",
       "0       0          0           0     0       0        0        0       0   \n",
       "1       0          0           0     0       0        0        0       0   \n",
       "2       0          0           0     0       0        0        0       0   \n",
       "3       0          0           0     0       0        0        0       0   \n",
       "4       0          0           0     0       0        0        0       0   \n",
       "\n",
       "   Sangli  \n",
       "0       0  \n",
       "1       0  \n",
       "2       0  \n",
       "3       0  \n",
       "4       0  \n",
       "\n",
       "[5 rows x 287 columns]"
      ]
     },
     "execution_count": 57,
     "metadata": {},
     "output_type": "execute_result"
    }
   ],
   "source": [
    "data.head()"
   ]
  },
  {
   "cell_type": "code",
   "execution_count": 58,
   "metadata": {},
   "outputs": [],
   "source": [
    "# Feature and label column splitting\n",
    "col = ['date','medium_x','restaurant_name','location','cust_id','city','name','gender','medium_y','signup_date','medium','booked']\n",
    "x = data.drop(merged_data[col],axis=1)\n",
    "y = data['booked']"
   ]
  },
  {
   "cell_type": "code",
   "execution_count": 59,
   "metadata": {},
   "outputs": [
    {
     "data": {
      "text/html": [
       "<div>\n",
       "<style scoped>\n",
       "    .dataframe tbody tr th:only-of-type {\n",
       "        vertical-align: middle;\n",
       "    }\n",
       "\n",
       "    .dataframe tbody tr th {\n",
       "        vertical-align: top;\n",
       "    }\n",
       "\n",
       "    .dataframe thead th {\n",
       "        text-align: right;\n",
       "    }\n",
       "</style>\n",
       "<table border=\"1\" class=\"dataframe\">\n",
       "  <thead>\n",
       "    <tr style=\"text-align: right;\">\n",
       "      <th></th>\n",
       "      <th>api_partner</th>\n",
       "      <th>concierge</th>\n",
       "      <th>google</th>\n",
       "      <th>ios</th>\n",
       "      <th>web</th>\n",
       "      <th>AGE</th>\n",
       "      <th>time_span</th>\n",
       "      <th>no_restaurant</th>\n",
       "      <th>Barbeque Nation</th>\n",
       "      <th>AB's - Absolute Barbecues</th>\n",
       "      <th>...</th>\n",
       "      <th>Warangal</th>\n",
       "      <th>Bharuch</th>\n",
       "      <th>Darjeeling</th>\n",
       "      <th>Trivandrum</th>\n",
       "      <th>Anand</th>\n",
       "      <th>Rajpura</th>\n",
       "      <th>Haridwar</th>\n",
       "      <th>Sonipat</th>\n",
       "      <th>Karnal</th>\n",
       "      <th>Sangli</th>\n",
       "    </tr>\n",
       "  </thead>\n",
       "  <tbody>\n",
       "    <tr>\n",
       "      <th>0</th>\n",
       "      <td>0</td>\n",
       "      <td>0</td>\n",
       "      <td>0</td>\n",
       "      <td>0</td>\n",
       "      <td>1</td>\n",
       "      <td>72</td>\n",
       "      <td>3</td>\n",
       "      <td>0</td>\n",
       "      <td>0</td>\n",
       "      <td>0</td>\n",
       "      <td>...</td>\n",
       "      <td>0</td>\n",
       "      <td>0</td>\n",
       "      <td>0</td>\n",
       "      <td>0</td>\n",
       "      <td>0</td>\n",
       "      <td>0</td>\n",
       "      <td>0</td>\n",
       "      <td>0</td>\n",
       "      <td>0</td>\n",
       "      <td>0</td>\n",
       "    </tr>\n",
       "    <tr>\n",
       "      <th>1</th>\n",
       "      <td>0</td>\n",
       "      <td>0</td>\n",
       "      <td>0</td>\n",
       "      <td>0</td>\n",
       "      <td>0</td>\n",
       "      <td>45</td>\n",
       "      <td>10</td>\n",
       "      <td>1</td>\n",
       "      <td>0</td>\n",
       "      <td>0</td>\n",
       "      <td>...</td>\n",
       "      <td>0</td>\n",
       "      <td>0</td>\n",
       "      <td>0</td>\n",
       "      <td>0</td>\n",
       "      <td>0</td>\n",
       "      <td>0</td>\n",
       "      <td>0</td>\n",
       "      <td>0</td>\n",
       "      <td>0</td>\n",
       "      <td>0</td>\n",
       "    </tr>\n",
       "    <tr>\n",
       "      <th>2</th>\n",
       "      <td>0</td>\n",
       "      <td>0</td>\n",
       "      <td>0</td>\n",
       "      <td>0</td>\n",
       "      <td>0</td>\n",
       "      <td>29</td>\n",
       "      <td>10</td>\n",
       "      <td>1</td>\n",
       "      <td>0</td>\n",
       "      <td>0</td>\n",
       "      <td>...</td>\n",
       "      <td>0</td>\n",
       "      <td>0</td>\n",
       "      <td>0</td>\n",
       "      <td>0</td>\n",
       "      <td>0</td>\n",
       "      <td>0</td>\n",
       "      <td>0</td>\n",
       "      <td>0</td>\n",
       "      <td>0</td>\n",
       "      <td>0</td>\n",
       "    </tr>\n",
       "    <tr>\n",
       "      <th>3</th>\n",
       "      <td>0</td>\n",
       "      <td>0</td>\n",
       "      <td>1</td>\n",
       "      <td>0</td>\n",
       "      <td>0</td>\n",
       "      <td>60</td>\n",
       "      <td>5</td>\n",
       "      <td>0</td>\n",
       "      <td>1</td>\n",
       "      <td>0</td>\n",
       "      <td>...</td>\n",
       "      <td>0</td>\n",
       "      <td>0</td>\n",
       "      <td>0</td>\n",
       "      <td>0</td>\n",
       "      <td>0</td>\n",
       "      <td>0</td>\n",
       "      <td>0</td>\n",
       "      <td>0</td>\n",
       "      <td>0</td>\n",
       "      <td>0</td>\n",
       "    </tr>\n",
       "    <tr>\n",
       "      <th>4</th>\n",
       "      <td>0</td>\n",
       "      <td>0</td>\n",
       "      <td>1</td>\n",
       "      <td>0</td>\n",
       "      <td>0</td>\n",
       "      <td>32</td>\n",
       "      <td>10</td>\n",
       "      <td>1</td>\n",
       "      <td>0</td>\n",
       "      <td>0</td>\n",
       "      <td>...</td>\n",
       "      <td>0</td>\n",
       "      <td>0</td>\n",
       "      <td>0</td>\n",
       "      <td>0</td>\n",
       "      <td>0</td>\n",
       "      <td>0</td>\n",
       "      <td>0</td>\n",
       "      <td>0</td>\n",
       "      <td>0</td>\n",
       "      <td>0</td>\n",
       "    </tr>\n",
       "  </tbody>\n",
       "</table>\n",
       "<p>5 rows × 275 columns</p>\n",
       "</div>"
      ],
      "text/plain": [
       "   api_partner  concierge  google  ios  web  AGE  time_span  no_restaurant  \\\n",
       "0            0          0       0    0    1   72          3              0   \n",
       "1            0          0       0    0    0   45         10              1   \n",
       "2            0          0       0    0    0   29         10              1   \n",
       "3            0          0       1    0    0   60          5              0   \n",
       "4            0          0       1    0    0   32         10              1   \n",
       "\n",
       "   Barbeque Nation  AB's - Absolute Barbecues  ...  Warangal  Bharuch  \\\n",
       "0                0                          0  ...         0        0   \n",
       "1                0                          0  ...         0        0   \n",
       "2                0                          0  ...         0        0   \n",
       "3                1                          0  ...         0        0   \n",
       "4                0                          0  ...         0        0   \n",
       "\n",
       "   Darjeeling  Trivandrum  Anand  Rajpura  Haridwar  Sonipat  Karnal  Sangli  \n",
       "0           0           0      0        0         0        0       0       0  \n",
       "1           0           0      0        0         0        0       0       0  \n",
       "2           0           0      0        0         0        0       0       0  \n",
       "3           0           0      0        0         0        0       0       0  \n",
       "4           0           0      0        0         0        0       0       0  \n",
       "\n",
       "[5 rows x 275 columns]"
      ]
     },
     "execution_count": 59,
     "metadata": {},
     "output_type": "execute_result"
    }
   ],
   "source": [
    "x.head()"
   ]
  },
  {
   "cell_type": "code",
   "execution_count": 60,
   "metadata": {},
   "outputs": [
    {
     "data": {
      "text/plain": [
       "0    1\n",
       "1    0\n",
       "2    0\n",
       "3    1\n",
       "4    0\n",
       "Name: booked, dtype: int32"
      ]
     },
     "execution_count": 60,
     "metadata": {},
     "output_type": "execute_result"
    }
   ],
   "source": [
    "y.head()"
   ]
  },
  {
   "cell_type": "code",
   "execution_count": 61,
   "metadata": {},
   "outputs": [],
   "source": [
    "# Importing train_test_split function\n",
    "from sklearn.model_selection import train_test_split\n",
    "\n",
    "# Splitting dataset into training set and test set\n",
    "x_train, x_test, y_train, y_test = train_test_split(x, y, test_size=0.3,random_state=0) # 70% training and 30% test"
   ]
  },
  {
   "cell_type": "code",
   "execution_count": 62,
   "metadata": {},
   "outputs": [
    {
     "name": "stdout",
     "output_type": "stream",
     "text": [
      "       api_partner  concierge  google  ios  web  AGE  time_span  \\\n",
      "55375            0          0       1    0    0   60          1   \n",
      "8161             0          0       1    0    0   78          0   \n",
      "41310            0          0       1    0    0   69          0   \n",
      "73316            0          0       1    0    0   48          0   \n",
      "29710            0          0       1    0    0   30         28   \n",
      "...            ...        ...     ...  ...  ...  ...        ...   \n",
      "21243            0          0       0    1    0   39         10   \n",
      "45891            0          0       1    0    0   31          5   \n",
      "42613            0          0       1    0    0   33         10   \n",
      "43567            0          0       1    0    0   35          3   \n",
      "68268            0          0       1    0    0   61          0   \n",
      "\n",
      "       no_restaurant  Barbeque Nation  AB's - Absolute Barbecues  ...  \\\n",
      "55375              0                0                          0  ...   \n",
      "8161               0                0                          1  ...   \n",
      "41310              0                0                          0  ...   \n",
      "73316              0                0                          0  ...   \n",
      "29710              0                0                          0  ...   \n",
      "...              ...              ...                        ...  ...   \n",
      "21243              1                0                          0  ...   \n",
      "45891              0                1                          0  ...   \n",
      "42613              1                0                          0  ...   \n",
      "43567              0                0                          0  ...   \n",
      "68268              0                1                          0  ...   \n",
      "\n",
      "       Warangal  Bharuch  Darjeeling  Trivandrum  Anand  Rajpura  Haridwar  \\\n",
      "55375         0        0           0           0      0        0         0   \n",
      "8161          0        0           0           0      0        0         0   \n",
      "41310         0        0           0           0      0        0         0   \n",
      "73316         0        0           0           0      0        0         0   \n",
      "29710         0        0           0           0      0        0         0   \n",
      "...         ...      ...         ...         ...    ...      ...       ...   \n",
      "21243         0        0           0           0      0        0         0   \n",
      "45891         0        0           0           0      0        0         0   \n",
      "42613         0        0           0           0      0        0         0   \n",
      "43567         0        0           0           0      0        0         0   \n",
      "68268         0        0           0           0      0        0         0   \n",
      "\n",
      "       Sonipat  Karnal  Sangli  \n",
      "55375        0       0       0  \n",
      "8161         0       0       0  \n",
      "41310        0       0       0  \n",
      "73316        0       0       0  \n",
      "29710        0       0       0  \n",
      "...        ...     ...     ...  \n",
      "21243        0       0       0  \n",
      "45891        0       0       0  \n",
      "42613        0       0       0  \n",
      "43567        0       0       0  \n",
      "68268        0       0       0  \n",
      "\n",
      "[68847 rows x 275 columns]\n"
     ]
    }
   ],
   "source": [
    "print(x_train)"
   ]
  },
  {
   "cell_type": "code",
   "execution_count": 63,
   "metadata": {},
   "outputs": [
    {
     "name": "stdout",
     "output_type": "stream",
     "text": [
      "       api_partner  concierge  google  ios  web  AGE  time_span  \\\n",
      "11392            0          0       1    0    0   50          0   \n",
      "67924            0          0       1    0    0   60          4   \n",
      "73104            0          0       1    0    0   45          1   \n",
      "18142            0          0       0    0    0   36         10   \n",
      "83526            0          0       1    0    0   27          0   \n",
      "...            ...        ...     ...  ...  ...  ...        ...   \n",
      "29024            0          0       0    0    0   30         10   \n",
      "86939            0          0       0    0    0   24         10   \n",
      "98212            0          0       0    0    1   17         10   \n",
      "34550            0          0       1    0    0   49          0   \n",
      "84812            0          0       0    1    0   51         21   \n",
      "\n",
      "       no_restaurant  Barbeque Nation  AB's - Absolute Barbecues  ...  \\\n",
      "11392              0                0                          0  ...   \n",
      "67924              0                1                          0  ...   \n",
      "73104              0                0                          1  ...   \n",
      "18142              1                0                          0  ...   \n",
      "83526              0                0                          0  ...   \n",
      "...              ...              ...                        ...  ...   \n",
      "29024              1                0                          0  ...   \n",
      "86939              1                0                          0  ...   \n",
      "98212              1                0                          0  ...   \n",
      "34550              0                0                          0  ...   \n",
      "84812              0                0                          0  ...   \n",
      "\n",
      "       Warangal  Bharuch  Darjeeling  Trivandrum  Anand  Rajpura  Haridwar  \\\n",
      "11392         0        0           0           0      0        0         0   \n",
      "67924         0        0           0           0      0        0         0   \n",
      "73104         0        0           0           0      0        0         0   \n",
      "18142         0        0           0           0      0        0         0   \n",
      "83526         0        0           0           0      0        0         0   \n",
      "...         ...      ...         ...         ...    ...      ...       ...   \n",
      "29024         0        0           0           0      0        0         0   \n",
      "86939         0        0           0           0      0        0         0   \n",
      "98212         0        0           0           0      0        0         0   \n",
      "34550         0        0           0           0      0        0         0   \n",
      "84812         0        0           0           0      0        0         0   \n",
      "\n",
      "       Sonipat  Karnal  Sangli  \n",
      "11392        0       0       0  \n",
      "67924        0       0       0  \n",
      "73104        0       0       0  \n",
      "18142        0       0       0  \n",
      "83526        0       0       0  \n",
      "...        ...     ...     ...  \n",
      "29024        0       0       0  \n",
      "86939        0       0       0  \n",
      "98212        0       0       0  \n",
      "34550        0       0       0  \n",
      "84812        0       0       0  \n",
      "\n",
      "[29507 rows x 275 columns]\n"
     ]
    }
   ],
   "source": [
    "print(x_test)"
   ]
  },
  {
   "cell_type": "code",
   "execution_count": 64,
   "metadata": {},
   "outputs": [
    {
     "data": {
      "text/plain": [
       "1    38232\n",
       "0    30615\n",
       "Name: booked, dtype: int64"
      ]
     },
     "execution_count": 64,
     "metadata": {},
     "output_type": "execute_result"
    }
   ],
   "source": [
    "# couting the two category numbers in training set\n",
    "y_train.value_counts()"
   ]
  },
  {
   "cell_type": "code",
   "execution_count": 65,
   "metadata": {},
   "outputs": [
    {
     "data": {
      "text/plain": [
       "1    16456\n",
       "0    13051\n",
       "Name: booked, dtype: int64"
      ]
     },
     "execution_count": 65,
     "metadata": {},
     "output_type": "execute_result"
    }
   ],
   "source": [
    "y_test.value_counts()"
   ]
  },
  {
   "cell_type": "code",
   "execution_count": 66,
   "metadata": {},
   "outputs": [
    {
     "data": {
      "text/plain": [
       "RandomForestClassifier(bootstrap=True, ccp_alpha=0.0, class_weight=None,\n",
       "                       criterion='gini', max_depth=None, max_features='auto',\n",
       "                       max_leaf_nodes=None, max_samples=None,\n",
       "                       min_impurity_decrease=0.0, min_impurity_split=None,\n",
       "                       min_samples_leaf=1, min_samples_split=2,\n",
       "                       min_weight_fraction_leaf=0.0, n_estimators=100,\n",
       "                       n_jobs=None, oob_score=False, random_state=0, verbose=0,\n",
       "                       warm_start=False)"
      ]
     },
     "execution_count": 66,
     "metadata": {},
     "output_type": "execute_result"
    }
   ],
   "source": [
    "# Implementing Random Forest Classifier on the training data\n",
    "from sklearn.ensemble import RandomForestClassifier\n",
    "clf = RandomForestClassifier(random_state=0)\n",
    "clf.fit(x_train, y_train)"
   ]
  },
  {
   "cell_type": "code",
   "execution_count": 67,
   "metadata": {},
   "outputs": [],
   "source": [
    "# Putting customers in the bucket of 1 whose probability is greater than or equal to 20%, else in 0\n",
    "prob_preds = clf.predict_proba(x_test)\n",
    "threshold = 0.2\n",
    "y_pred = [1 if prob_preds[i][1]>= threshold else 0 for i in range(len(prob_preds))]"
   ]
  },
  {
   "cell_type": "code",
   "execution_count": 68,
   "metadata": {},
   "outputs": [
    {
     "name": "stdout",
     "output_type": "stream",
     "text": [
      "[[13015    36]\n",
      " [    0 16456]]\n",
      "Accuracy : 0.9987799505202155\n"
     ]
    }
   ],
   "source": [
    "from sklearn.metrics import confusion_matrix, accuracy_score\n",
    "print(confusion_matrix(y_test, y_pred))    # Creating a confusion matrix  \n",
    "print('Accuracy : {}'.format(accuracy_score(y_test, y_pred))) # printing the accuracy score"
   ]
  },
  {
   "cell_type": "code",
   "execution_count": 69,
   "metadata": {},
   "outputs": [],
   "source": [
    "#Import svm model\n",
    "#from sklearn import svm\n",
    "\n",
    "#Create a svm Classifier\n",
    "#clf = svm.SVC(kernel='linear',probability=True,random_state=109) # Linear Kernel\n",
    "\n",
    "#Train the model using the training sets\n",
    "#clf.fit(x_train, y_train)\n"
   ]
  },
  {
   "cell_type": "code",
   "execution_count": 70,
   "metadata": {},
   "outputs": [],
   "source": [
    "#prob_preds = clf.predict_proba(x_test)\n",
    "#threshold = 0.2\n",
    "#y_pred = [1 if prob_preds[i][1]>= threshold else 0 for i in range(len(prob_preds))]"
   ]
  },
  {
   "cell_type": "code",
   "execution_count": 71,
   "metadata": {},
   "outputs": [],
   "source": [
    "#from sklearn.metrics import confusion_matrix, accuracy_score\n",
    "#print(confusion_matrix(y_test, y_pred))\n",
    "#print('Accuracy : {}'.format(accuracy_score(y_test, y_pred)))"
   ]
  },
  {
   "cell_type": "code",
   "execution_count": 72,
   "metadata": {},
   "outputs": [],
   "source": [
    "from sklearn.model_selection import cross_val_score"
   ]
  },
  {
   "cell_type": "code",
   "execution_count": 73,
   "metadata": {},
   "outputs": [],
   "source": [
    "accur = cross_val_score(estimator = clf, X = x_train, y = y_train, cv = 10)"
   ]
  },
  {
   "cell_type": "code",
   "execution_count": 74,
   "metadata": {},
   "outputs": [
    {
     "name": "stdout",
     "output_type": "stream",
     "text": [
      "Accuracy: 1.0 \n",
      "Standard Deviation: 0.0\n"
     ]
    }
   ],
   "source": [
    "# Using Cross validation on the training set\n",
    "print(\"Accuracy: {} \".format(accur.mean()))\n",
    "print(\"Standard Deviation: {}\".format(accur.std()))"
   ]
  },
  {
   "cell_type": "code",
   "execution_count": 75,
   "metadata": {},
   "outputs": [
    {
     "name": "stdout",
     "output_type": "stream",
     "text": [
      "              precision    recall  f1-score   support\n",
      "\n",
      "           0       1.00      1.00      1.00     13051\n",
      "           1       1.00      1.00      1.00     16456\n",
      "\n",
      "    accuracy                           1.00     29507\n",
      "   macro avg       1.00      1.00      1.00     29507\n",
      "weighted avg       1.00      1.00      1.00     29507\n",
      "\n"
     ]
    }
   ],
   "source": [
    "# Calculating precison, recall and f1-score\n",
    "from sklearn.metrics import classification_report\n",
    "print(classification_report(y_test, y_pred))\n"
   ]
  },
  {
   "cell_type": "code",
   "execution_count": 76,
   "metadata": {},
   "outputs": [],
   "source": [
    "# The result shows that our model is successful which has an accuracy greater than 99 percent.\n",
    "# There are 14 false positives and 0 false negatives\n",
    "# Hence, we will be able to know if the customer who has sign up will be able to make a booking in first 7 days."
   ]
  }
 ],
 "metadata": {
  "kernelspec": {
   "display_name": "Python 3",
   "language": "python",
   "name": "python3"
  },
  "language_info": {
   "codemirror_mode": {
    "name": "ipython",
    "version": 3
   },
   "file_extension": ".py",
   "mimetype": "text/x-python",
   "name": "python",
   "nbconvert_exporter": "python",
   "pygments_lexer": "ipython3",
   "version": "3.7.6"
  }
 },
 "nbformat": 4,
 "nbformat_minor": 4
}
